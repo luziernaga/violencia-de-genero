{
 "cells": [
  {
   "cell_type": "markdown",
   "metadata": {},
   "source": [
    "## ¿Cómo vamos Nuevo León?\n",
    "### es un organismo que desde 2016 analiza el sentir de los ciudadanos, respecto a la actividad del gobierno.\n",
    "\n",
    "Con los datos presentados para 2017 \n",
    "- OBSERVAR NIVEL DE INGRESOS\n",
    "- OCUPACION LABORAL"
   ]
  },
  {
   "cell_type": "code",
   "execution_count": 1,
   "metadata": {},
   "outputs": [],
   "source": [
    "#importamos librerias\n",
    "import csv\n",
    "import numpy as np\n",
    "import pandas as pd\n",
    "import matplotlib.pyplot as plt\n",
    "%matplotlib inline"
   ]
  },
  {
   "cell_type": "code",
   "execution_count": 2,
   "metadata": {},
   "outputs": [],
   "source": [
    "asivamos=pd.read_csv('asivamos.csv', low_memory=False)\n"
   ]
  },
  {
   "cell_type": "code",
   "execution_count": 3,
   "metadata": {},
   "outputs": [
    {
     "data": {
      "text/html": [
       "<div>\n",
       "<style scoped>\n",
       "    .dataframe tbody tr th:only-of-type {\n",
       "        vertical-align: middle;\n",
       "    }\n",
       "\n",
       "    .dataframe tbody tr th {\n",
       "        vertical-align: top;\n",
       "    }\n",
       "\n",
       "    .dataframe thead th {\n",
       "        text-align: right;\n",
       "    }\n",
       "</style>\n",
       "<table border=\"1\" class=\"dataframe\">\n",
       "  <thead>\n",
       "    <tr style=\"text-align: right;\">\n",
       "      <th></th>\n",
       "      <th>folio</th>\n",
       "      <th>clave</th>\n",
       "      <th>consecutivo</th>\n",
       "      <th>ageb_a</th>\n",
       "      <th>mza</th>\n",
       "      <th>mun</th>\n",
       "      <th>loc</th>\n",
       "      <th>pobtot</th>\n",
       "      <th>vivtot</th>\n",
       "      <th>orden</th>\n",
       "      <th>...</th>\n",
       "      <th>p6704R</th>\n",
       "      <th>p6705R</th>\n",
       "      <th>p14R</th>\n",
       "      <th>p16aR</th>\n",
       "      <th>p16bR</th>\n",
       "      <th>p16_gida</th>\n",
       "      <th>p16_gvuelta</th>\n",
       "      <th>p16_gtotal</th>\n",
       "      <th>p9R</th>\n",
       "      <th>p19R</th>\n",
       "    </tr>\n",
       "  </thead>\n",
       "  <tbody>\n",
       "    <tr>\n",
       "      <th>0</th>\n",
       "      <td>42</td>\n",
       "      <td>542</td>\n",
       "      <td>2462</td>\n",
       "      <td>586</td>\n",
       "      <td>3</td>\n",
       "      <td>5</td>\n",
       "      <td>1</td>\n",
       "      <td>50</td>\n",
       "      <td>14</td>\n",
       "      <td>1713</td>\n",
       "      <td>...</td>\n",
       "      <td>NaN</td>\n",
       "      <td>NaN</td>\n",
       "      <td>0.0</td>\n",
       "      <td>NaN</td>\n",
       "      <td>NaN</td>\n",
       "      <td>NaN</td>\n",
       "      <td>NaN</td>\n",
       "      <td>NaN</td>\n",
       "      <td>NaN</td>\n",
       "      <td>6.0</td>\n",
       "    </tr>\n",
       "    <tr>\n",
       "      <th>1</th>\n",
       "      <td>288</td>\n",
       "      <td>49288</td>\n",
       "      <td>2272</td>\n",
       "      <td>330</td>\n",
       "      <td>4</td>\n",
       "      <td>49</td>\n",
       "      <td>1</td>\n",
       "      <td>55</td>\n",
       "      <td>20</td>\n",
       "      <td>62357</td>\n",
       "      <td>...</td>\n",
       "      <td>NaN</td>\n",
       "      <td>NaN</td>\n",
       "      <td>NaN</td>\n",
       "      <td>NaN</td>\n",
       "      <td>NaN</td>\n",
       "      <td>NaN</td>\n",
       "      <td>NaN</td>\n",
       "      <td>NaN</td>\n",
       "      <td>NaN</td>\n",
       "      <td>10.0</td>\n",
       "    </tr>\n",
       "    <tr>\n",
       "      <th>2</th>\n",
       "      <td>1583</td>\n",
       "      <td>461583</td>\n",
       "      <td>1801</td>\n",
       "      <td>752</td>\n",
       "      <td>18</td>\n",
       "      <td>46</td>\n",
       "      <td>1</td>\n",
       "      <td>197</td>\n",
       "      <td>57</td>\n",
       "      <td>54951</td>\n",
       "      <td>...</td>\n",
       "      <td>NaN</td>\n",
       "      <td>NaN</td>\n",
       "      <td>500.0</td>\n",
       "      <td>NaN</td>\n",
       "      <td>NaN</td>\n",
       "      <td>NaN</td>\n",
       "      <td>NaN</td>\n",
       "      <td>NaN</td>\n",
       "      <td>8.0</td>\n",
       "      <td>6.0</td>\n",
       "    </tr>\n",
       "    <tr>\n",
       "      <th>3</th>\n",
       "      <td>291</td>\n",
       "      <td>49291</td>\n",
       "      <td>2275</td>\n",
       "      <td>028A</td>\n",
       "      <td>7</td>\n",
       "      <td>49</td>\n",
       "      <td>1</td>\n",
       "      <td>61</td>\n",
       "      <td>31</td>\n",
       "      <td>62253</td>\n",
       "      <td>...</td>\n",
       "      <td>NaN</td>\n",
       "      <td>NaN</td>\n",
       "      <td>NaN</td>\n",
       "      <td>NaN</td>\n",
       "      <td>NaN</td>\n",
       "      <td>NaN</td>\n",
       "      <td>NaN</td>\n",
       "      <td>NaN</td>\n",
       "      <td>6.0</td>\n",
       "      <td>7.0</td>\n",
       "    </tr>\n",
       "    <tr>\n",
       "      <th>4</th>\n",
       "      <td>325</td>\n",
       "      <td>35325</td>\n",
       "      <td>2745</td>\n",
       "      <td>49</td>\n",
       "      <td>21</td>\n",
       "      <td>35</td>\n",
       "      <td>1</td>\n",
       "      <td>12</td>\n",
       "      <td>9</td>\n",
       "      <td>34963</td>\n",
       "      <td>...</td>\n",
       "      <td>NaN</td>\n",
       "      <td>NaN</td>\n",
       "      <td>0.0</td>\n",
       "      <td>NaN</td>\n",
       "      <td>NaN</td>\n",
       "      <td>NaN</td>\n",
       "      <td>NaN</td>\n",
       "      <td>NaN</td>\n",
       "      <td>7.0</td>\n",
       "      <td>NaN</td>\n",
       "    </tr>\n",
       "  </tbody>\n",
       "</table>\n",
       "<p>5 rows × 369 columns</p>\n",
       "</div>"
      ],
      "text/plain": [
       "   folio   clave  consecutivo ageb_a  mza  mun  loc  pobtot  vivtot  orden  \\\n",
       "0     42     542         2462    586    3    5    1      50      14   1713   \n",
       "1    288   49288         2272    330    4   49    1      55      20  62357   \n",
       "2   1583  461583         1801    752   18   46    1     197      57  54951   \n",
       "3    291   49291         2275   028A    7   49    1      61      31  62253   \n",
       "4    325   35325         2745     49   21   35    1      12       9  34963   \n",
       "\n",
       "   ...   p6704R  p6705R   p14R  p16aR  p16bR  p16_gida p16_gvuelta p16_gtotal  \\\n",
       "0  ...      NaN     NaN    0.0    NaN    NaN       NaN         NaN        NaN   \n",
       "1  ...      NaN     NaN    NaN    NaN    NaN       NaN         NaN        NaN   \n",
       "2  ...      NaN     NaN  500.0    NaN    NaN       NaN         NaN        NaN   \n",
       "3  ...      NaN     NaN    NaN    NaN    NaN       NaN         NaN        NaN   \n",
       "4  ...      NaN     NaN    0.0    NaN    NaN       NaN         NaN        NaN   \n",
       "\n",
       "   p9R  p19R  \n",
       "0  NaN   6.0  \n",
       "1  NaN  10.0  \n",
       "2  8.0   6.0  \n",
       "3  6.0   7.0  \n",
       "4  7.0   NaN  \n",
       "\n",
       "[5 rows x 369 columns]"
      ]
     },
     "execution_count": 3,
     "metadata": {},
     "output_type": "execute_result"
    }
   ],
   "source": [
    "asivamos.head()"
   ]
  },
  {
   "cell_type": "code",
   "execution_count": 4,
   "metadata": {},
   "outputs": [
    {
     "data": {
      "text/plain": [
       "(2937, 369)"
      ]
     },
     "execution_count": 4,
     "metadata": {},
     "output_type": "execute_result"
    }
   ],
   "source": [
    "asivamos.shape\n"
   ]
  },
  {
   "cell_type": "code",
   "execution_count": 5,
   "metadata": {},
   "outputs": [
    {
     "data": {
      "text/plain": [
       "array(['folio', 'clave', 'consecutivo', 'ageb_a', 'mza', 'mun', 'loc',\n",
       "       'pobtot', 'vivtot', 'orden', 'municipio', 'estratos',\n",
       "       'estratifica', 'ordena', 'vivienda_seleccionada', 'entrevista',\n",
       "       'sexo', 'p1', 'p2a', 'p2b', 'mpo_origen', 'p32', 'p3a', 'p3b',\n",
       "       'p3c', 'p3d', 'p3e', 'p3f', 'p3g', 'p3h', 'porquenosalio',\n",
       "       'p3_principal', 'p3_secundario', 'p3_terciario', 'p301', 'p302',\n",
       "       'p303', 'p304', 'p4', 'p5', 'mpo_destino', 'colonia',\n",
       "       'a3etapasorigen', 'p6a', 'p6b', 'ruta', 'p6c', 'p6c_nper_taxi',\n",
       "       'p6d', 'p6d_nper_uber', 'p6e', 'p6f', 'p6g', 'p6h', 'p6h_aco',\n",
       "       'p6h_nper_auto', 'p6i', 'p6j', 'p6k', 'p6l', 'p6m', 'p6n',\n",
       "       'p6_primario', 'p6_secundario', 'p6_terciario', 'p60101', 'p60102',\n",
       "       'p60103', 'p7', 'p8a', 'p8b', 'p8c', 'p8d', 'p8e', 'p8f', 'p9',\n",
       "       'p10hr', 'p10min', 'p11hr', 'p11min', 'p12hr', 'p12min', 'p13',\n",
       "       'v80', 'p15', 'p14', 'p16a', 'p16b', 'p16c', 'p17a', 'p17b',\n",
       "       'p17c', 'p17d', 'p17e', 'p17f', 'p17g', 'p18a', 'p18b', 'p18c',\n",
       "       'p18d', 'p18e', 'p18f', 'p18g', 'p18h', 'p18i', 'p19', 'p2001',\n",
       "       'p2002', 'p2003', 'p2101', 'p2102', 'p2103', 'p2201', 'p2202',\n",
       "       'p2203', 'p2204', 'p2205', 'p2206', 'p2207', 'p2208', 'p2209',\n",
       "       'p22010', 'p22011', 'p2301', 'p2302', 'p2303', 'p2401', 'p2402',\n",
       "       'p2403', 'p2404', 'p2405', 'p2406', 'p2407', 'p25a', 'p25b',\n",
       "       'p25c', 'p25d', 'p25e', 'p25f', 'p25g', 'p26a', 'p26b', 'p26c',\n",
       "       'p26d', 'p26e', 'p26f', 'p26g', 'p2701', 'p2702', 'p2703', 'p28a',\n",
       "       'p28b', 'p29', 'p30', 'p31', 'p33a', 'p33b', 'p33c', 'p33d',\n",
       "       'p33e', 'p33f', 'p33g', 'p33h', 'p33i', 'p33j', 'p33k', 'p33l',\n",
       "       'p34', 'p35', 'p3601', 'p3602', 'p3603', 'p3604', 'p3605', 'p3606',\n",
       "       'p370101', 'p370102', 'p370103', 'p370104', 'p370105', 'p370106',\n",
       "       'p370107', 'p370108', 'p370109', 'p3701010', 'p370201', 'p370202',\n",
       "       'p370203', 'p370204', 'p370205', 'p370206', 'p370207', 'p370208',\n",
       "       'p370209', 'p3702010', 'p370301', 'p370302', 'p370303', 'p370304',\n",
       "       'p370305', 'p370306', 'p370307', 'p370308', 'p370309', 'p3703010',\n",
       "       'p370401', 'p370402', 'p370403', 'p370404', 'p370405', 'p370406',\n",
       "       'p370407', 'p370408', 'p370409', 'p3704010', 'p3801', 'p3802',\n",
       "       'p3803', 'p39', 'p3901', 'p3902', 'p3903', 'p3904', 'p3905',\n",
       "       'p3906', 'p3907', 'p3908', 'p3909', 'p39010', 'p39011', 'p390101',\n",
       "       'p39a', 'p39b', 'p39d', 'p40', 'p41a', 'p41b', 'p41c', 'p41d',\n",
       "       'p41e', 'p4201', 'p4202', 'p4203', 'p4204', 'p4205', 'p43a',\n",
       "       'p43ba', 'p43bb', 'p43bc', 'p43bd', 'p43be', 'p44a', 'p44b',\n",
       "       'p44c', 'p44d', 'p44e', 'p44f', 'p44g', 'p44h', 'p44i', 'p4501',\n",
       "       'p4502', 'p4503', 'p46', 'p46a', 'redes', 'p46b', 'p47', 'p48',\n",
       "       'p48a', 'redes_a', 'p48b', 'p49', 'p50', 'p51', 'p52', 'p52a',\n",
       "       'p53', 'p5401', 'p5402', 'p5403', 'p5501', 'p5502', 'p5503', 'p56',\n",
       "       'p57', 'p58a', 'p58b', 'p58c', 'p58d', 'p58e', 'p5801', 'p5802',\n",
       "       'p59a', 'p59b', 'p59c', 'p59d', 'p59e', 'p5901', 'p5902', 'p60',\n",
       "       'p61', 'p62a', 'p62b', 'p62c', 'p62d', 'p62e', 'p62f', 'p62g',\n",
       "       'p62h', 'p62i', 'p62j', 'p62k', 'p62l', 'p63a', 'p63b', 'p63c',\n",
       "       'p64', 'p65', 'p66', 'p67', 'p6701', 'p6702', 'p6703', 'p6704',\n",
       "       'p6705', 'p6706', 'p68', 'municipiomu', 'populationsize',\n",
       "       'samplesize_1', 'region', 'facexp_diseno_c', 'facexp_adulto_c',\n",
       "       'facexp_vivienda_c', 'facexp_adulto_aj', 'p10minR', 'p10hrR',\n",
       "       'p11minR', 'p11hrR', 'p12minR', 'p12hrR', 'p10minT', 'p11minT',\n",
       "       'p12minT', 'p4_sem', 'mpo_destinoC', 'p6_camina', 'p6_camionurb',\n",
       "       'p6_taxi', 'p6_uber', 'p6_moto', 'p6_bici', 'p6_auto',\n",
       "       'p6_otropub', 'p6_transtrab', 'p6701R', 'p6702R', 'p6703R',\n",
       "       'p6704R', 'p6705R', 'p14R', 'p16aR', 'p16bR', 'p16_gida',\n",
       "       'p16_gvuelta', 'p16_gtotal', 'p9R', 'p19R'], dtype=object)"
      ]
     },
     "execution_count": 5,
     "metadata": {},
     "output_type": "execute_result"
    }
   ],
   "source": [
    "\n",
    "\n",
    "asivamos.columns.values"
   ]
  },
  {
   "cell_type": "code",
   "execution_count": 6,
   "metadata": {},
   "outputs": [
    {
     "data": {
      "text/plain": [
       "folio                    2937\n",
       "clave                    2937\n",
       "consecutivo              2937\n",
       "ageb_a                   2937\n",
       "mza                      2937\n",
       "mun                      2937\n",
       "loc                      2937\n",
       "pobtot                   2937\n",
       "vivtot                   2937\n",
       "orden                    2937\n",
       "municipio                2937\n",
       "estratos                 2501\n",
       "estratifica              2501\n",
       "ordena                   2937\n",
       "vivienda_seleccionada    2937\n",
       "entrevista               2937\n",
       "sexo                     2937\n",
       "p1                       2937\n",
       "p2a                      2937\n",
       "p2b                      2937\n",
       "mpo_origen               2937\n",
       "p32                      2937\n",
       "p3a                       997\n",
       "p3b                        62\n",
       "p3c                       312\n",
       "p3d                        82\n",
       "p3e                        84\n",
       "p3f                       115\n",
       "p3g                        70\n",
       "p3h                      2937\n",
       "                         ... \n",
       "p11hrR                   1648\n",
       "p12minR                   428\n",
       "p12hrR                    428\n",
       "p10minT                  1640\n",
       "p11minT                  1638\n",
       "p12minT                   428\n",
       "p4_sem                   2937\n",
       "mpo_destinoC             2937\n",
       "p6_camina                2937\n",
       "p6_camionurb             2937\n",
       "p6_taxi                  2937\n",
       "p6_uber                  2937\n",
       "p6_moto                  2937\n",
       "p6_bici                  2937\n",
       "p6_auto                  2937\n",
       "p6_otropub                 17\n",
       "p6_transtrab             2937\n",
       "p6701R                   1166\n",
       "p6702R                    277\n",
       "p6703R                     55\n",
       "p6704R                      9\n",
       "p6705R                      2\n",
       "p14R                      915\n",
       "p16aR                     610\n",
       "p16bR                      68\n",
       "p16_gida                  610\n",
       "p16_gvuelta               610\n",
       "p16_gtotal                610\n",
       "p9R                      2905\n",
       "p19R                     2709\n",
       "Length: 369, dtype: int64"
      ]
     },
     "execution_count": 6,
     "metadata": {},
     "output_type": "execute_result"
    }
   ],
   "source": [
    "asivamos.count()"
   ]
  },
  {
   "cell_type": "code",
   "execution_count": 7,
   "metadata": {},
   "outputs": [],
   "source": [
    "general=asivamos[['sexo','p1','p68']]"
   ]
  },
  {
   "cell_type": "code",
   "execution_count": 8,
   "metadata": {},
   "outputs": [
    {
     "data": {
      "text/html": [
       "<div>\n",
       "<style scoped>\n",
       "    .dataframe tbody tr th:only-of-type {\n",
       "        vertical-align: middle;\n",
       "    }\n",
       "\n",
       "    .dataframe tbody tr th {\n",
       "        vertical-align: top;\n",
       "    }\n",
       "\n",
       "    .dataframe thead th {\n",
       "        text-align: right;\n",
       "    }\n",
       "</style>\n",
       "<table border=\"1\" class=\"dataframe\">\n",
       "  <thead>\n",
       "    <tr style=\"text-align: right;\">\n",
       "      <th></th>\n",
       "      <th>sexo</th>\n",
       "      <th>p1</th>\n",
       "      <th>p68</th>\n",
       "    </tr>\n",
       "  </thead>\n",
       "  <tbody>\n",
       "    <tr>\n",
       "      <th>0</th>\n",
       "      <td>Hombre</td>\n",
       "      <td>1</td>\n",
       "      <td>3</td>\n",
       "    </tr>\n",
       "    <tr>\n",
       "      <th>1</th>\n",
       "      <td>Hombre</td>\n",
       "      <td>1</td>\n",
       "      <td>5</td>\n",
       "    </tr>\n",
       "    <tr>\n",
       "      <th>2</th>\n",
       "      <td>Mujer</td>\n",
       "      <td>1</td>\n",
       "      <td>8</td>\n",
       "    </tr>\n",
       "    <tr>\n",
       "      <th>3</th>\n",
       "      <td>Mujer</td>\n",
       "      <td>5</td>\n",
       "      <td>5</td>\n",
       "    </tr>\n",
       "    <tr>\n",
       "      <th>4</th>\n",
       "      <td>Mujer</td>\n",
       "      <td>5</td>\n",
       "      <td>3</td>\n",
       "    </tr>\n",
       "  </tbody>\n",
       "</table>\n",
       "</div>"
      ],
      "text/plain": [
       "     sexo p1 p68\n",
       "0  Hombre  1   3\n",
       "1  Hombre  1   5\n",
       "2   Mujer  1   8\n",
       "3   Mujer  5   5\n",
       "4   Mujer  5   3"
      ]
     },
     "execution_count": 8,
     "metadata": {},
     "output_type": "execute_result"
    }
   ],
   "source": [
    "general.head()"
   ]
  },
  {
   "cell_type": "code",
   "execution_count": 9,
   "metadata": {},
   "outputs": [
    {
     "data": {
      "text/plain": [
       "(2937, 3)"
      ]
     },
     "execution_count": 9,
     "metadata": {},
     "output_type": "execute_result"
    }
   ],
   "source": [
    "general.shape"
   ]
  },
  {
   "cell_type": "code",
   "execution_count": 10,
   "metadata": {},
   "outputs": [
    {
     "data": {
      "text/plain": [
       "sexo    object\n",
       "p1      object\n",
       "p68     object\n",
       "dtype: object"
      ]
     },
     "execution_count": 10,
     "metadata": {},
     "output_type": "execute_result"
    }
   ],
   "source": [
    "general.dtypes"
   ]
  },
  {
   "cell_type": "code",
   "execution_count": 11,
   "metadata": {},
   "outputs": [
    {
     "data": {
      "text/plain": [
       "Mujer     1472\n",
       "Hombre    1465\n",
       "Name: sexo, dtype: int64"
      ]
     },
     "execution_count": 11,
     "metadata": {},
     "output_type": "execute_result"
    }
   ],
   "source": [
    "general['sexo'].value_counts()"
   ]
  },
  {
   "cell_type": "code",
   "execution_count": 12,
   "metadata": {},
   "outputs": [
    {
     "data": {
      "text/plain": [
       "<matplotlib.axes._subplots.AxesSubplot at 0x11883ec88>"
      ]
     },
     "execution_count": 12,
     "metadata": {},
     "output_type": "execute_result"
    },
    {
     "data": {
      "image/png": "[encoded data removed]",
      "text/plain": [
       "<Figure size 432x288 with 1 Axes>"
      ]
     },
     "metadata": {},
     "output_type": "display_data"
    }
   ],
   "source": [
    "general['sexo'].value_counts().plot.pie()"
   ]
  },
  {
   "cell_type": "code",
   "execution_count": null,
   "metadata": {},
   "outputs": [],
   "source": []
  },
  {
   "cell_type": "markdown",
   "metadata": {},
   "source": [
    "## ¿Cuál es el ingreso mensual total por su familia?\n",
    "Respuestas:\n",
    "1. Sin Ingreso\n",
    "2. Menos de 1 SM (1 peso a 2,481.24)\n",
    "3. 1-2 SM (2,481.25-4,962.48)\n",
    "4. 2-3 SM (4,962.49- 7,443.72)\n",
    "5. 3-4 SM (7,443.73-9,924.96)\n",
    "6. 4-5 SM (9,924.96-12,406.2)\n",
    "7. 5-6 SM (12,406.2-14,887.44)\n",
    "8. 6-7 SM (14,887.44-17,368.68)\n",
    "9. 7-8 SM (17,368.68-19,849.92)\n",
    "10. 8-9 SM (19,849.92 - 22,331.16)\n",
    "11. 9-10 SM (22,331.16-24,812.4)\n",
    "12. 10 o mas SM (24,812.4 O MAS)\n"
   ]
  },
  {
   "cell_type": "code",
   "execution_count": 13,
   "metadata": {},
   "outputs": [
    {
     "data": {
      "text/plain": [
       "<matplotlib.axes._subplots.AxesSubplot at 0x1191ccbe0>"
      ]
     },
     "execution_count": 13,
     "metadata": {},
     "output_type": "execute_result"
    },
    {
     "data": {
      "image/png": "[encoded data removed]",
      "text/plain": [
       "<Figure size 432x288 with 1 Axes>"
      ]
     },
     "metadata": {
      "needs_background": "light"
     },
     "output_type": "display_data"
    }
   ],
   "source": [
    "general['p68'].value_counts().plot.bar(title='INGRESO MENSUAL POR FAMILIA')"
   ]
  },
  {
   "cell_type": "markdown",
   "metadata": {},
   "source": [
    "P1. Durante la semana pasada, cuál fue su principal actividad laboral:\n",
    "1. Empleado\n",
    "2. Buscando empleo\n",
    "3. Estudiante\n",
    "4. Negocio propio / independiente 8. Otro_____________\n",
    "5. Ama de casa\n",
    "6. Jubilado/Pensionado\n",
    "7.  Ni estudia, ni trabaja, ni busca empleo\n",
    "8. Otro_____________"
   ]
  },
  {
   "cell_type": "code",
   "execution_count": 14,
   "metadata": {},
   "outputs": [
    {
     "data": {
      "text/plain": [
       "<matplotlib.axes._subplots.AxesSubplot at 0x1196fe668>"
      ]
     },
     "execution_count": 14,
     "metadata": {},
     "output_type": "execute_result"
    },
    {
     "data": {
      "image/png": "[encoded data removed]",
      "text/plain": [
       "<Figure size 432x288 with 1 Axes>"
      ]
     },
     "metadata": {
      "needs_background": "light"
     },
     "output_type": "display_data"
    }
   ],
   "source": [
    "general['p1'].value_counts().plot.bar(title='ACTIVIDAD LABORAL')"
   ]
  },
  {
   "cell_type": "code",
   "execution_count": null,
   "metadata": {},
   "outputs": [],
   "source": []
  }
 ],
 "metadata": {
  "kernelspec": {
   "display_name": "Python 3",
   "language": "python",
   "name": "python3"
  },
  "language_info": {
   "codemirror_mode": {
    "name": "ipython",
    "version": 3
   },
   "file_extension": ".py",
   "mimetype": "text/x-python",
   "name": "python",
   "nbconvert_exporter": "python",
   "pygments_lexer": "ipython3",
   "version": "3.7.0"
  }
 },
 "nbformat": 4,
 "nbformat_minor": 2
}
